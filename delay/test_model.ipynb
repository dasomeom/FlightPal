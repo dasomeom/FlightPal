{
 "cells": [
  {
   "cell_type": "code",
   "execution_count": 1,
   "metadata": {},
   "outputs": [],
   "source": [
    "import datetime, warnings, scipy \n",
    "import pandas as pd\n",
    "import pickle\n",
    "import numpy as np\n",
    "import seaborn as sns\n",
    "import matplotlib as mpl\n",
    "import matplotlib.pyplot as plt\n",
    "import matplotlib.patches as mpatches\n",
    "import matplotlib.patches as patches\n",
    "from matplotlib.patches import ConnectionPatch\n",
    "from collections import OrderedDict\n",
    "from matplotlib.gridspec import GridSpec\n",
    "from sklearn.linear_model import Ridge\n",
    "from sklearn import metrics, linear_model\n",
    "from sklearn.preprocessing import PolynomialFeatures, StandardScaler\n",
    "from sklearn.preprocessing import LabelEncoder, OneHotEncoder\n",
    "from sklearn.model_selection import train_test_split, cross_val_score, cross_val_predict\n",
    "from scipy.optimize import curve_fit\n",
    "plt.rcParams[\"patch.force_edgecolor\"] = True\n",
    "plt.style.use('fivethirtyeight')\n",
    "mpl.rc('patch', edgecolor = 'dimgray', linewidth=1)\n",
    "from IPython.core.interactiveshell import InteractiveShell\n",
    "InteractiveShell.ast_node_interactivity = \"last_expr\"\n",
    "pd.options.display.max_columns = 50\n",
    "%matplotlib inline\n",
    "warnings.filterwarnings(\"ignore\")"
   ]
  },
  {
   "cell_type": "code",
   "execution_count": 9,
   "metadata": {},
   "outputs": [],
   "source": [
    "def test_input(airline, depart_airport, arrive_airport, dep_at):\n",
    "    dep_val = int(dep_at/100)*60+(dep_at%100)\n",
    "    user_input = [[dep_val, airports_dict[depart_airport], airports_dict[arrive_airport], dep_at]]\n",
    "    df = pd.DataFrame(user_input, columns = ['DEP_VALUE', 'ORIGIN_AIRPORT', 'DEST_AIRPORT', 'DEP_TIME']) \n",
    "    X = np.array(df[['ORIGIN_AIRPORT', 'DEP_VALUE', 'DEST_AIRPORT']])\n",
    "    filename = airline.lower() + '_model.sav'\n",
    "    return X, filename"
   ]
  },
  {
   "cell_type": "code",
   "execution_count": 10,
   "metadata": {},
   "outputs": [],
   "source": [
    "# airline \n",
    "airports = pd.read_csv('airport_id.csv')\n",
    "airports['AIRPORT_ID'] = airports['AIRPORT_ID']\n",
    "airports_dict = airports.set_index('AIRPORT')['AIRPORT_ID'].to_dict()"
   ]
  },
  {
   "cell_type": "code",
   "execution_count": 21,
   "metadata": {},
   "outputs": [
    {
     "name": "stdout",
     "output_type": "stream",
     "text": [
      "<_io.BufferedReader name='f9_model.sav'>\n",
      "PolynomialFeatures(degree=2, include_bias=True, interaction_only=False,\n",
      "                   order='C')\n",
      "Ridge(alpha=0.4, copy_X=True, fit_intercept=True, max_iter=None, normalize=True,\n",
      "      random_state=None, solver='auto', tol=0.001)\n"
     ]
    }
   ],
   "source": [
    "with open(filename, \"rb\") as f:\n",
    "    print(f)\n",
    "    loaded_poly,loaded_ridge = pickle.load(f) \n",
    "f.close()\n",
    "print(loaded_poly)\n",
    "print(loaded_ridge)"
   ]
  },
  {
   "cell_type": "code",
   "execution_count": null,
   "metadata": {},
   "outputs": [],
   "source": [
    "airline = 'F9'\n",
    "depart_airport = 'ATL'\n",
    "arrive_airport = 'LAX'\n",
    "dep_at = int(830)\n",
    "\n",
    "test_data, filename = test_input(airline, depart_airport, arrive_airport, dep_at) \n",
    "print(test_data)"
   ]
  },
  {
   "cell_type": "code",
   "execution_count": 22,
   "metadata": {},
   "outputs": [
    {
     "data": {
      "text/plain": [
       "'Expected Flight Delay is 4.28 minutes'"
      ]
     },
     "execution_count": 22,
     "metadata": {},
     "output_type": "execute_result"
    }
   ],
   "source": [
    "new_x = loaded_poly.fit_transform(test_data)\n",
    "score = loaded_ridge.predict(new_x)[0][0]\n",
    "\n",
    "'Expected Flight Delay is {:.2f} minutes'.format(np.sqrt(score))"
   ]
  },
  {
   "cell_type": "code",
   "execution_count": null,
   "metadata": {},
   "outputs": [],
   "source": []
  }
 ],
 "metadata": {
  "kernelspec": {
   "display_name": "Python 3",
   "language": "python",
   "name": "python3"
  },
  "language_info": {
   "codemirror_mode": {
    "name": "ipython",
    "version": 3
   },
   "file_extension": ".py",
   "mimetype": "text/x-python",
   "name": "python",
   "nbconvert_exporter": "python",
   "pygments_lexer": "ipython3",
   "version": "3.6.8"
  }
 },
 "nbformat": 4,
 "nbformat_minor": 2
}
